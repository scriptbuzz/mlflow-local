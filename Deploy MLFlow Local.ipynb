{
 "cells": [
  {
   "cell_type": "markdown",
   "id": "9e676a79",
   "metadata": {},
   "source": [
    "This is a getting started guide to help deploy MLflow locally. \n",
    "\n",
    "If you are a machine learning developer like me, you typically spend most of your time experimenting with parameters and code on your local workstation using your favorite IDE or Jupyter Notebook. In the past, I would use a spreadsheet to track my ML experiments. That was not fun.  \n",
    "\n",
    "The ML stack was begging for a toolchain that can bring DevOps-like functionality to ML development.  This led to the rise of tools referred to loosely as MLOps tools. One of those tools that's gaining traction is MLflow.\n",
    "\n",
    "MLflow is an open source framework to help organize machine learning development workflows by tracking experiments, packaging code into reproducible executions, facilitating collaboration, and deploying models. \n",
    "\n",
    "MLflow can be deployed in many configurations. If you are developing locally most of the time and don't have the need for a central repo MLflow can be installed locally on your laptop so you can track your experiments and never have to guess again if you tried certain parameters or not and what was the resulting ML model performance. \n",
    "\n",
    "In this guide I will walk you thru how I deployed MLflow on my local macbook. Later, I will publish guides on more advanced setups such as using a cloud-hosted resources to support team collaboration and for higher availability, scalability, and security. \n",
    "\n",
    "LET'S GET STARTED!\n"
   ]
  },
  {
   "cell_type": "code",
   "execution_count": 1,
   "id": "8e709ba0",
   "metadata": {},
   "outputs": [
    {
     "name": "stdout",
     "output_type": "stream",
     "text": [
      "Requirement already satisfied: mlflow in /Users/user/miniforge3/lib/python3.9/site-packages (1.27.0)\n",
      "Requirement already satisfied: numpy in /Users/user/miniforge3/lib/python3.9/site-packages (from mlflow) (1.22.4)\n",
      "Requirement already satisfied: scipy in /Users/user/miniforge3/lib/python3.9/site-packages (from mlflow) (1.9.0)\n",
      "Requirement already satisfied: alembic in /Users/user/miniforge3/lib/python3.9/site-packages (from mlflow) (1.8.1)\n",
      "Requirement already satisfied: databricks-cli>=0.8.7 in /Users/user/miniforge3/lib/python3.9/site-packages (from mlflow) (0.17.0)\n",
      "Requirement already satisfied: gitpython>=2.1.0 in /Users/user/miniforge3/lib/python3.9/site-packages (from mlflow) (3.1.27)\n",
      "Requirement already satisfied: sqlalchemy>=1.4.0 in /Users/user/miniforge3/lib/python3.9/site-packages (from mlflow) (1.4.39)\n",
      "Requirement already satisfied: importlib-metadata!=4.7.0,>=3.7.0 in /Users/user/miniforge3/lib/python3.9/site-packages (from mlflow) (4.12.0)\n",
      "Requirement already satisfied: gunicorn in /Users/user/miniforge3/lib/python3.9/site-packages (from mlflow) (20.1.0)\n",
      "Requirement already satisfied: packaging in /Users/user/miniforge3/lib/python3.9/site-packages (from mlflow) (21.3)\n",
      "Requirement already satisfied: pandas in /Users/user/miniforge3/lib/python3.9/site-packages (from mlflow) (1.4.3)\n",
      "Requirement already satisfied: sqlparse>=0.3.1 in /Users/user/miniforge3/lib/python3.9/site-packages (from mlflow) (0.4.2)\n",
      "Requirement already satisfied: pytz in /Users/user/miniforge3/lib/python3.9/site-packages (from mlflow) (2022.1)\n",
      "Requirement already satisfied: docker>=4.0.0 in /Users/user/miniforge3/lib/python3.9/site-packages (from mlflow) (5.0.3)\n",
      "Requirement already satisfied: click>=7.0 in /Users/user/miniforge3/lib/python3.9/site-packages (from mlflow) (8.1.3)\n",
      "Requirement already satisfied: prometheus-flask-exporter in /Users/user/miniforge3/lib/python3.9/site-packages (from mlflow) (0.20.3)\n",
      "Requirement already satisfied: entrypoints in /Users/user/miniforge3/lib/python3.9/site-packages (from mlflow) (0.4)\n",
      "Requirement already satisfied: Flask in /Users/user/miniforge3/lib/python3.9/site-packages (from mlflow) (2.2.1)\n",
      "Requirement already satisfied: pyyaml>=5.1 in /Users/user/miniforge3/lib/python3.9/site-packages (from mlflow) (6.0)\n",
      "Requirement already satisfied: protobuf>=3.12.0 in /Users/user/miniforge3/lib/python3.9/site-packages (from mlflow) (3.19.4)\n",
      "Requirement already satisfied: cloudpickle in /Users/user/miniforge3/lib/python3.9/site-packages (from mlflow) (2.1.0)\n",
      "Requirement already satisfied: querystring-parser in /Users/user/miniforge3/lib/python3.9/site-packages (from mlflow) (1.2.4)\n",
      "Requirement already satisfied: requests>=2.17.3 in /Users/user/miniforge3/lib/python3.9/site-packages (from mlflow) (2.28.1)\n",
      "Requirement already satisfied: tabulate>=0.7.7 in /Users/user/miniforge3/lib/python3.9/site-packages (from databricks-cli>=0.8.7->mlflow) (0.8.10)\n",
      "Requirement already satisfied: six>=1.10.0 in /Users/user/miniforge3/lib/python3.9/site-packages (from databricks-cli>=0.8.7->mlflow) (1.15.0)\n",
      "Requirement already satisfied: pyjwt>=1.7.0 in /Users/user/miniforge3/lib/python3.9/site-packages (from databricks-cli>=0.8.7->mlflow) (2.4.0)\n",
      "Requirement already satisfied: oauthlib>=3.1.0 in /Users/user/miniforge3/lib/python3.9/site-packages (from databricks-cli>=0.8.7->mlflow) (3.2.0)\n",
      "Requirement already satisfied: websocket-client>=0.32.0 in /Users/user/miniforge3/lib/python3.9/site-packages (from docker>=4.0.0->mlflow) (1.3.3)\n",
      "Requirement already satisfied: gitdb<5,>=4.0.1 in /Users/user/miniforge3/lib/python3.9/site-packages (from gitpython>=2.1.0->mlflow) (4.0.9)\n",
      "Requirement already satisfied: zipp>=0.5 in /Users/user/miniforge3/lib/python3.9/site-packages (from importlib-metadata!=4.7.0,>=3.7.0->mlflow) (3.8.1)\n",
      "Requirement already satisfied: urllib3<1.27,>=1.21.1 in /Users/user/miniforge3/lib/python3.9/site-packages (from requests>=2.17.3->mlflow) (1.26.11)\n",
      "Requirement already satisfied: idna<4,>=2.5 in /Users/user/miniforge3/lib/python3.9/site-packages (from requests>=2.17.3->mlflow) (3.3)\n",
      "Requirement already satisfied: charset-normalizer<3,>=2 in /Users/user/miniforge3/lib/python3.9/site-packages (from requests>=2.17.3->mlflow) (2.1.0)\n",
      "Requirement already satisfied: certifi>=2017.4.17 in /Users/user/miniforge3/lib/python3.9/site-packages (from requests>=2.17.3->mlflow) (2022.6.15)\n",
      "Requirement already satisfied: Mako in /Users/user/miniforge3/lib/python3.9/site-packages (from alembic->mlflow) (1.2.1)\n",
      "Requirement already satisfied: itsdangerous>=2.0 in /Users/user/miniforge3/lib/python3.9/site-packages (from Flask->mlflow) (2.1.2)\n",
      "Requirement already satisfied: Werkzeug>=2.2.0 in /Users/user/miniforge3/lib/python3.9/site-packages (from Flask->mlflow) (2.2.1)\n",
      "Requirement already satisfied: Jinja2>=3.0 in /Users/user/miniforge3/lib/python3.9/site-packages (from Flask->mlflow) (3.1.2)\n",
      "Requirement already satisfied: setuptools>=3.0 in /Users/user/miniforge3/lib/python3.9/site-packages (from gunicorn->mlflow) (63.2.0)\n",
      "Requirement already satisfied: pyparsing!=3.0.5,>=2.0.2 in /Users/user/miniforge3/lib/python3.9/site-packages (from packaging->mlflow) (3.0.9)\n",
      "Requirement already satisfied: python-dateutil>=2.8.1 in /Users/user/miniforge3/lib/python3.9/site-packages (from pandas->mlflow) (2.8.2)\n",
      "Requirement already satisfied: prometheus-client in /Users/user/miniforge3/lib/python3.9/site-packages (from prometheus-flask-exporter->mlflow) (0.14.1)\n",
      "Requirement already satisfied: smmap<6,>=3.0.1 in /Users/user/miniforge3/lib/python3.9/site-packages (from gitdb<5,>=4.0.1->gitpython>=2.1.0->mlflow) (5.0.0)\n",
      "Requirement already satisfied: MarkupSafe>=2.0 in /Users/user/miniforge3/lib/python3.9/site-packages (from Jinja2>=3.0->Flask->mlflow) (2.1.1)\n"
     ]
    }
   ],
   "source": [
    "# Install mlflow\n",
    "\n",
    "!pip install mlflow"
   ]
  },
  {
   "cell_type": "code",
   "execution_count": 2,
   "id": "425190c3",
   "metadata": {},
   "outputs": [],
   "source": [
    "# Import support libraries \n",
    "\n",
    "import os\n",
    "import warnings\n",
    "import sys\n",
    "\n",
    "import pandas as pd\n",
    "import numpy as np\n",
    "from sklearn.metrics import mean_squared_error, mean_absolute_error, r2_score\n",
    "from sklearn.model_selection import train_test_split\n",
    "from sklearn.linear_model import ElasticNet\n",
    "from urllib.parse import urlparse\n",
    "import mlflow\n",
    "import mlflow.sklearn"
   ]
  },
  {
   "cell_type": "code",
   "execution_count": 3,
   "id": "ed920717",
   "metadata": {},
   "outputs": [],
   "source": [
    "import logging\n",
    "\n",
    "# configure logging\n",
    "\n",
    "logging.basicConfig(level=logging.WARN)\n",
    "logger = logging.getLogger(__name__)"
   ]
  },
  {
   "cell_type": "code",
   "execution_count": 4,
   "id": "8375a596",
   "metadata": {},
   "outputs": [],
   "source": [
    "# define evaluation metrics. In this case rmse, mae, r2 scores\n",
    "\n",
    "def eval_metrics(actual, pred):\n",
    "    rmse = np.sqrt(mean_squared_error(actual, pred))\n",
    "    mae = mean_absolute_error(actual, pred)\n",
    "    r2 = r2_score(actual, pred)\n",
    "    return rmse, mae, r2"
   ]
  },
  {
   "cell_type": "code",
   "execution_count": 5,
   "id": "b6db17bf",
   "metadata": {},
   "outputs": [],
   "source": [
    "#configure warning logs\n",
    "warnings.filterwarnings(\"ignore\")\n",
    "\n",
    "# set random seed to reproduce same results everytime \n",
    "\n",
    "np.random.seed(40)\n",
    "\n",
    "# Read the samle dataset csv file from the URL\n",
    "csv_url = (\n",
    "    \"http://archive.ics.uci.edu/ml/machine-learning-databases/wine-quality/winequality-red.csv\"\n",
    ")\n",
    "try:\n",
    "    data = pd.read_csv(csv_url, sep=\";\")\n",
    "except Exception as e:\n",
    "    logger.exception(\n",
    "        \"Unable to download training & test CSV, check your internet connection. Error: %s\", e\n",
    "    )\n",
    "    \n",
    "# Split the data into training and test sets. (0.75, 0.25) split.\n",
    "train, test = train_test_split(data)\n",
    "\n",
    "# The predicted column is \"quality\" which is a scalar from [3, 9]\n",
    "train_x = train.drop([\"quality\"], axis=1)\n",
    "test_x = test.drop([\"quality\"], axis=1)\n",
    "train_y = train[[\"quality\"]]\n",
    "test_y = test[[\"quality\"]]\n",
    "\n"
   ]
  },
  {
   "cell_type": "code",
   "execution_count": 6,
   "id": "f43bf38e",
   "metadata": {},
   "outputs": [
    {
     "name": "stdout",
     "output_type": "stream",
     "text": [
      "Elasticnet model (alpha=0.350000, l1_ratio=0.450000):\n",
      "  RMSE: 0.7616514499663437\n",
      "  MAE: 0.5936841528680933\n",
      "  R2: 0.17804834226795552\n"
     ]
    }
   ],
   "source": [
    "# Run this code cell multiple times each with a different alpha and l1_ratio numbers using \n",
    "# values between 0 and 1. \n",
    "\n",
    "# ElasticNet link: https://scikit-learn.org/stable/modules/generated/sklearn.linear_model.ElasticNet.html\n",
    "\n",
    "alpha =  .35 # used to multiply penalty terms.\n",
    "l1_ratio =  .45  # a penalty function var\n",
    "# This example uses the ElasticNet model. \n",
    "# It's a linear regression model with combined L1 and L2 priors as regularizer\n",
    "\n",
    "with mlflow.start_run():\n",
    "    lr = ElasticNet(alpha=alpha, l1_ratio=l1_ratio, random_state=42)\n",
    "    lr.fit(train_x, train_y)\n",
    "\n",
    "    predicted_qualities = lr.predict(test_x)\n",
    "\n",
    "    (rmse, mae, r2) = eval_metrics(test_y, predicted_qualities)\n",
    "\n",
    "    print(\"Elasticnet model (alpha=%f, l1_ratio=%f):\" % (alpha, l1_ratio))\n",
    "    print(\"  RMSE: %s\" % rmse)\n",
    "    print(\"  MAE: %s\" % mae)\n",
    "    print(\"  R2: %s\" % r2)\n",
    "\n",
    "    mlflow.log_param(\"alpha\", alpha)\n",
    "    mlflow.log_param(\"l1_ratio\", l1_ratio)\n",
    "    mlflow.log_metric(\"rmse\", rmse)\n",
    "    mlflow.log_metric(\"r2\", r2)\n",
    "    mlflow.log_metric(\"mae\", mae)\n",
    "\n",
    "    tracking_url_type_store = urlparse(mlflow.get_tracking_uri()).scheme\n",
    "\n",
    "    # Model registry does not work with file store\n",
    "    if tracking_url_type_store != \"file\":\n",
    "\n",
    "        # Register the model\n",
    "        # There are other ways to use the Model Registry, which depends on the use case,\n",
    "        # please refer to the doc for more information:\n",
    "        # https://mlflow.org/docs/latest/model-registry.html#api-workflow\n",
    "        mlflow.sklearn.log_model(lr, \"model\", registered_model_name=\"ElasticnetWineModel\")\n",
    "    else:\n",
    "        mlflow.sklearn.log_model(lr, \"model\")\n",
    "\n",
    "\n",
    "# for each run, above metrics will be saved in model's local directory. "
   ]
  },
  {
   "cell_type": "code",
   "execution_count": 7,
   "id": "138dcc24",
   "metadata": {},
   "outputs": [],
   "source": [
    "# when done, open a terminal and go to your projects local working \n",
    "# directory and below command (withour hashtag)\n",
    "\n",
    "# mlflow ui"
   ]
  },
  {
   "cell_type": "code",
   "execution_count": 8,
   "id": "9712a8f2",
   "metadata": {},
   "outputs": [],
   "source": [
    "# from your browser, open the mflow dashboard using below url (withour hashtag)\n",
    "\n",
    "# http://localhost:5000\n",
    "        \n",
    "# you should see a dashboard similar to the one below but your content will vary.\n",
    "\n",
    "# ![title](img/mbitar-mflow-dash.jpg)"
   ]
  },
  {
   "cell_type": "markdown",
   "id": "33ffaa11",
   "metadata": {},
   "source": [
    "![title](img/mbitar-mflow-dash.jpg)"
   ]
  },
  {
   "cell_type": "code",
   "execution_count": null,
   "id": "2f59bd8c",
   "metadata": {},
   "outputs": [],
   "source": [
    "# when you click on one of the experiment (runs) you can see more details such as related artifacts\n",
    "#  ![title](img/mbitar-mflow-dash.jpg)\n"
   ]
  },
  {
   "cell_type": "markdown",
   "id": "4d4e5808",
   "metadata": {},
   "source": [
    "![title](img/mbitar-mflow-dash-details.jpg)"
   ]
  },
  {
   "cell_type": "code",
   "execution_count": null,
   "id": "d4a677f0",
   "metadata": {},
   "outputs": [],
   "source": [
    "# you can also track artifact metadata such as model matadata "
   ]
  },
  {
   "cell_type": "markdown",
   "id": "87d13545",
   "metadata": {},
   "source": [
    "![mflow dash 1](https://github.com/scriptbuzz/mlflow-local/blob/main/mbitar-mflow-dash-artifacts.jpg)"
   ]
  },
  {
   "cell_type": "markdown",
   "id": "cf32901c",
   "metadata": {},
   "source": [
    "mlflow is feature-packed. If you are not using an MLops tool, you can enjoy substantial gains in productivity by simply by using it's basic features. Once you feel comfortable with the basics, you can exapnd your MLflow deployment. \n",
    "\n",
    "My next MLops guide will cover remote MLflow deployment and touch on some of the tool's more advanced features to support cloud and team collaboration. \n",
    "\n",
    "Thank you.\n",
    "Michael Bitar"
   ]
  }
 ],
 "metadata": {
  "kernelspec": {
   "display_name": "Python 3 (ipykernel)",
   "language": "python",
   "name": "python3"
  },
  "language_info": {
   "codemirror_mode": {
    "name": "ipython",
    "version": 3
   },
   "file_extension": ".py",
   "mimetype": "text/x-python",
   "name": "python",
   "nbconvert_exporter": "python",
   "pygments_lexer": "ipython3",
   "version": "3.9.13"
  }
 },
 "nbformat": 4,
 "nbformat_minor": 5
}
